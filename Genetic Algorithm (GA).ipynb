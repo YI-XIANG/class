{
 "cells": [
  {
   "cell_type": "markdown",
   "metadata": {},
   "source": [
    "**Example** 1 We need to enclose a rectangular field with a fence. We have 500 feet of fencing material and a building is on one side of the field and so won’t need any fencing. Determine the dimensions of the field that will enclose the largest area.\n",
    "![替代文字](http://tutorial.math.lamar.edu/Classes/CalcI/Optimization_Files/image001.png)\n",
    "In this problem we want to maximize the area of a field and we know that will use 500 ft of fencing material. So, the area will be the function we are trying to optimize and the amount of fencing is the constraint. The two equations for these are,\n",
    "$$Maximize : A=xy$$\n",
    "$$Constraint : 500 = x + 2y$$\n"
   ]
  },
  {
   "cell_type": "code",
   "execution_count": 1,
   "metadata": {},
   "outputs": [
    {
     "name": "stderr",
     "output_type": "stream",
     "text": [
      "C:\\Users\\user\\Anaconda3\\envs\\tensorflow-gpu\\lib\\site-packages\\h5py\\__init__.py:36: FutureWarning: Conversion of the second argument of issubdtype from `float` to `np.floating` is deprecated. In future, it will be treated as `np.float64 == np.dtype(float).type`.\n",
      "  from ._conv import register_converters as _register_converters\n"
     ]
    }
   ],
   "source": [
    "# 1.1 Import tensorflow and other libraries.\n",
    "import tensorflow as tf\n",
    "import numpy as np\n",
    "import matplotlib.pyplot as plt\n",
    "%matplotlib inline\n",
    "import pylab\n",
    "import numpy\n",
    "from sympy import*\n",
    "from sympy import*"
   ]
  },
  {
   "cell_type": "markdown",
   "metadata": {},
   "source": [
    "$$x = 500 − 2y$$\n",
    "$$A(y) = ( 500 − 2y ) y = 500y − 2y^2 $$\n",
    "$$A′(y) = 500 − 4y$$"
   ]
  },
  {
   "cell_type": "code",
   "execution_count": 2,
   "metadata": {},
   "outputs": [],
   "source": [
    "def my_function(y):\n",
    "    return 500*y-2*y**2"
   ]
  },
  {
   "cell_type": "code",
   "execution_count": 3,
   "metadata": {},
   "outputs": [],
   "source": [
    "def my_function_x(y):\n",
    "    x = 500-2*y\n",
    "    return x"
   ]
  },
  {
   "cell_type": "code",
   "execution_count": 4,
   "metadata": {},
   "outputs": [
    {
     "data": {
      "text/plain": [
       "[125]"
      ]
     },
     "execution_count": 4,
     "metadata": {},
     "output_type": "execute_result"
    }
   ],
   "source": [
    "y = Symbol('y')     #定義X為未知數\n",
    "solve(diff(my_function(y), y))    #對 500y - 2y^2微分,並解出理論解"
   ]
  },
  {
   "cell_type": "code",
   "execution_count": 5,
   "metadata": {},
   "outputs": [
    {
     "name": "stdout",
     "output_type": "stream",
     "text": [
      "x1 =  250 ,y1 =  125 ,A =  31250\n"
     ]
    }
   ],
   "source": [
    "y1 = 125\n",
    "x1 = 500 - 2*y1\n",
    "A = x1 * y1\n",
    "print('x1 = ',x1,',y1 = ',y1,',A = ',A)"
   ]
  },
  {
   "cell_type": "code",
   "execution_count": 6,
   "metadata": {},
   "outputs": [
    {
     "data": {
      "text/plain": [
       "[<matplotlib.lines.Line2D at 0x206480919b0>]"
      ]
     },
     "execution_count": 6,
     "metadata": {},
     "output_type": "execute_result"
    },
    {
     "data": {
      "image/png": "[encoded data removed]",
      "text/plain": [
       "<Figure size 432x288 with 1 Axes>"
      ]
     },
     "metadata": {},
     "output_type": "display_data"
    }
   ],
   "source": [
    "# 1.2 Create input data using NumPy.\n",
    "x = np.arange(0.0,250.0,0.01)\n",
    "y = my_function(x)\n",
    "plt.plot(x,y)"
   ]
  },
  {
   "cell_type": "markdown",
   "metadata": {},
   "source": [
    "<font size=6>Using Gradient Descent solve the problem</font><p>\n",
    "<font size=3>梯度下降法（英語：Gradient descent)<p>是一個一階最佳化算法，通常也稱為最速下降法。 要使用梯度下降法找到一個函數的局部極小值，必須向函數上當前點對應梯度（或者是近似梯度）的反方向的規定步長距離點進行疊代搜索。如果相反地向梯度正方向疊代進行搜索，則會接近函數的局部極大值點；這個過程則被稱為梯度上升法。</font>"
   ]
  },
  {
   "cell_type": "code",
   "execution_count": 7,
   "metadata": {},
   "outputs": [
    {
     "name": "stdout",
     "output_type": "stream",
     "text": [
      "WARNING:tensorflow:From C:\\Users\\user\\Anaconda3\\envs\\tensorflow-gpu\\lib\\site-packages\\tensorflow\\python\\util\\tf_should_use.py:189: initialize_all_variables (from tensorflow.python.ops.variables) is deprecated and will be removed after 2017-03-02.\n",
      "Instructions for updating:\n",
      "Use `tf.global_variables_initializer` instead.\n"
     ]
    }
   ],
   "source": [
    "y = tf.Variable(tf.random_uniform([1], 0, 250))\n",
    "\n",
    "loss = my_function(y)  # Create an operation that calculates loss.\n",
    "optimizer = tf.train.GradientDescentOptimizer(-0.1)  # Create an optimizer.\n",
    "train = optimizer.minimize(loss)  # Create an operation that minimizes loss.\n",
    "init = tf.initialize_all_variables()  # Create an operation initializes all the variables."
   ]
  },
  {
   "cell_type": "code",
   "execution_count": 8,
   "metadata": {},
   "outputs": [
    {
     "name": "stdout",
     "output_type": "stream",
     "text": [
      "[array([171.7141], dtype=float32)]\n"
     ]
    }
   ],
   "source": [
    "sess = tf.Session()\n",
    "sess.run(init)\n",
    "#y_initial_values = sess.run(x)  # Save initial values for plotting later.\n",
    "\n",
    "# Uncomment the following line to see the initial W and b values.\n",
    "print(sess.run([y]))"
   ]
  },
  {
   "cell_type": "code",
   "execution_count": 9,
   "metadata": {},
   "outputs": [
    {
     "name": "stdout",
     "output_type": "stream",
     "text": [
      "[array([125.00001], dtype=float32)]\n"
     ]
    }
   ],
   "source": [
    "for step in range(201):\n",
    "    sess.run(train)   \n",
    "print(sess.run([y]))"
   ]
  },
  {
   "cell_type": "code",
   "execution_count": 10,
   "metadata": {},
   "outputs": [
    {
     "name": "stdout",
     "output_type": "stream",
     "text": [
      "x_GD =  250 ,y_GD =  125 , A_GD =  31250\n"
     ]
    }
   ],
   "source": [
    "Y_GD = 125\n",
    "X_GD = 500 - 2*Y_GD\n",
    "A_GD = X_GD * Y_GD\n",
    "print('x_GD = ',X_GD ,',y_GD = ', Y_GD , ', A_GD = ',A_GD)"
   ]
  },
  {
   "cell_type": "markdown",
   "metadata": {},
   "source": [
    "<font size=6>Using Genetic Algorithm solve the problem</font><p>\n",
    "<font size=3>遺傳演算法（英語：genetic algorithm (GA) ）<p>是計算數學中用於解決最佳化的搜尋演算法，是進化演算法的一種。進化演算法最初是借鑑了進化生物學中的一些現象而發展起來的，這些現象包括遺傳、突變、自然選擇以及雜交等。<p>\n",
    "\n",
    "遺傳演算法通常實現方式為一種電腦類比。對於一個最佳化問題，一定數量的候選解（稱為個體）可抽象表示為染色體，使種群向更好的解進化。傳統上，解用二進位表示（即0和1的串），但也可以用其他表示方法。進化從完全隨機個體的種群開始，之後一代一代發生。在每一代中評價整個種群的適應度，從目前種群中隨機地選擇多個個體（基於它們的適應度），通過自然選擇和突變產生新的生命種群，該種群在演算法的下一次疊代中成為目前種群。</font>"
   ]
  },
  {
   "cell_type": "code",
   "execution_count": 11,
   "metadata": {},
   "outputs": [
    {
     "name": "stdout",
     "output_type": "stream",
     "text": [
      "gaft.FitnessStore   INFO     Best fitness values are written to best_fit.py\n",
      "gaft.ConsoleOutputAnalysis   INFO     Optimal solution: ([125.0], 31250.0)\n",
      "X_GA =  250 \n",
      "Y_GA =  125 \n",
      "A_GA =  31250\n"
     ]
    }
   ],
   "source": [
    "#匯入套件\n",
    "from gaft import GAEngine\n",
    "from gaft.components import BinaryIndividual\n",
    "from gaft.components import Population\n",
    "from gaft.operators import TournamentSelection\n",
    "from gaft.operators import UniformCrossover\n",
    "from gaft.operators import FlipBitMutation\n",
    "from gaft.plugin_interfaces.analysis import OnTheFlyAnalysis\n",
    "from gaft.analysis.fitness_store import FitnessStore\n",
    "\n",
    "#定義範圍 0~250 因為x+2y=500 所以單邊長一介於0~250之間\n",
    "indv_template = BinaryIndividual(ranges=[(0, 250)], eps=0.001)\n",
    "population = Population(indv_template=indv_template, size=30).init()\n",
    "\n",
    "#創建遺傳因子\n",
    "selection = TournamentSelection()\n",
    "crossover = UniformCrossover(pc=0.8, pe=0.5)\n",
    "mutation = FlipBitMutation(pm=0.1)\n",
    "\n",
    "#創建GA演算法\n",
    "engine = GAEngine(population=population, selection=selection,\n",
    "                  crossover=crossover, mutation=mutation,\n",
    "                  analysis=[FitnessStore])\n",
    "\n",
    "#定義最佳化問題\n",
    "@engine.fitness_register\n",
    "def fitness(indv):\n",
    "    y, = indv.solution\n",
    "    return my_function(y)\n",
    "\n",
    "#顯示最佳結果\n",
    "@engine.analysis_register\n",
    "class ConsoleOutputAnalysis(OnTheFlyAnalysis):\n",
    "    def finalize(self, population, engine):\n",
    "        best_indv = population.best_indv(engine.fitness)\n",
    "        x = best_indv.solution\n",
    "        y = engine.ori_fmax\n",
    "        msg = 'Optimal solution: ({}, {})'.format(x, y)\n",
    "        self.logger.info(msg)\n",
    "#執行250次\n",
    "if '__main__' == __name__:\n",
    "    engine.run(ng=250)\n",
    "    \n",
    "#顯示x,y,z\n",
    "from best_fit import *\n",
    "Y_GA = int(best_fit[-1][1][0])\n",
    "X_GA = my_function_x(Y_GA)\n",
    "A_GA = my_function(Y_GA)\n",
    "print('X_GA = ',X_GA,'\\nY_GA = ',Y_GA,'\\nA_GA = ',A_GA)"
   ]
  }
 ],
 "metadata": {
  "kernelspec": {
   "display_name": "Python 3",
   "language": "python",
   "name": "python3"
  },
  "language_info": {
   "codemirror_mode": {
    "name": "ipython",
    "version": 3
   },
   "file_extension": ".py",
   "mimetype": "text/x-python",
   "name": "python",
   "nbconvert_exporter": "python",
   "pygments_lexer": "ipython3",
   "version": "3.5.5"
  }
 },
 "nbformat": 4,
 "nbformat_minor": 2
}
