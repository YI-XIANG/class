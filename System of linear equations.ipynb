{
 "cells": [
  {
   "cell_type": "code",
   "execution_count": 28,
   "metadata": {},
   "outputs": [],
   "source": [
    "from numpy.linalg import inv\n",
    "import numpy as np"
   ]
  },
  {
   "cell_type": "markdown",
   "metadata": {},
   "source": [
    "$$A = \\left\\{\n",
    "       \\begin{matrix}\n",
    "       3 & 2 & -1 \\\\\n",
    "       2 & -2 & 4 \\\\\n",
    "       -1 & \\frac{1}{2} & -1\n",
    "      \\end{matrix}\n",
    "      \\right\\} \\tag{1}$$"
   ]
  },
  {
   "cell_type": "code",
   "execution_count": 29,
   "metadata": {},
   "outputs": [
    {
     "name": "stdout",
     "output_type": "stream",
     "text": [
      "[[ 3.   2.  -1. ]\n",
      " [ 2.  -2.   4. ]\n",
      " [-1.   0.5 -1. ]]\n"
     ]
    }
   ],
   "source": [
    "A = np.array([[3., 2.,-1.], [2., -2., 4], [-1, 1/2, -1]])\n",
    "print(A)"
   ]
  },
  {
   "cell_type": "markdown",
   "metadata": {},
   "source": [
    "$$A^{-1} = \\left\\{\n",
    "       \\begin{matrix}\n",
    "       0 & -0.5 & -2 \\\\\n",
    "       0.667 & 1.333 & 4.667 \\\\\n",
    "       0.333 & 1.167 & 3.33\n",
    "      \\end{matrix}\n",
    "      \\right\\} \\tag{3}$$"
   ]
  },
  {
   "cell_type": "code",
   "execution_count": 30,
   "metadata": {},
   "outputs": [
    {
     "name": "stdout",
     "output_type": "stream",
     "text": [
      "[[ 0.         -0.5        -2.        ]\n",
      " [ 0.66666667  1.33333333  4.66666667]\n",
      " [ 0.33333333  1.16666667  3.33333333]]\n"
     ]
    }
   ],
   "source": [
    "A_1 = inv(a)\n",
    "print(A_1)"
   ]
  },
  {
   "cell_type": "markdown",
   "metadata": {},
   "source": [
    "$$ \\overrightarrow{B} = \\left\\{\n",
    "       \\begin{matrix}\n",
    "        1\\\\\n",
    "        -2\\\\\n",
    "        0\n",
    "      \\end{matrix}\n",
    "      \\right\\} \\tag{3}$$"
   ]
  },
  {
   "cell_type": "code",
   "execution_count": 34,
   "metadata": {},
   "outputs": [
    {
     "name": "stdout",
     "output_type": "stream",
     "text": [
      "[[ 1.]\n",
      " [-2.]\n",
      " [ 0.]]\n"
     ]
    }
   ],
   "source": [
    "B = np.array([[1.], [-2.], [0.]])\n",
    "print(B)"
   ]
  },
  {
   "cell_type": "markdown",
   "metadata": {},
   "source": [
    "$$A\\overrightarrow{X} = \\overrightarrow{B}$$\n",
    "$$\\overrightarrow{X} = A^{-1}\\overrightarrow{B}\\tag{2}$$"
   ]
  },
  {
   "cell_type": "code",
   "execution_count": 40,
   "metadata": {},
   "outputs": [
    {
     "name": "stdout",
     "output_type": "stream",
     "text": [
      "[[ 1.]\n",
      " [-2.]\n",
      " [-2.]]\n"
     ]
    }
   ],
   "source": [
    "X = np.dot(A_1,B)           #理論解\n",
    "print(X)"
   ]
  },
  {
   "cell_type": "code",
   "execution_count": 38,
   "metadata": {},
   "outputs": [
    {
     "name": "stdout",
     "output_type": "stream",
     "text": [
      "[[ 1.]\n",
      " [-2.]\n",
      " [-2.]]\n"
     ]
    }
   ],
   "source": [
    "z = np.linalg.solve(A,B)    #直接解方程式functionn\n",
    "print(z)"
   ]
  },
  {
   "cell_type": "code",
   "execution_count": null,
   "metadata": {},
   "outputs": [],
   "source": []
  }
 ],
 "metadata": {
  "kernelspec": {
   "display_name": "Python 3",
   "language": "python",
   "name": "python3"
  },
  "language_info": {
   "codemirror_mode": {
    "name": "ipython",
    "version": 3
   },
   "file_extension": ".py",
   "mimetype": "text/x-python",
   "name": "python",
   "nbconvert_exporter": "python",
   "pygments_lexer": "ipython3",
   "version": "3.5.5"
  }
 },
 "nbformat": 4,
 "nbformat_minor": 2
}
