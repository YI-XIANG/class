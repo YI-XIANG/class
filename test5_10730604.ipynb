{
 "cells": [
  {
   "cell_type": "markdown",
   "metadata": {},
   "source": [
    "Problem:\n",
    "Given Functuin $$f(x) = {x}^2$$\n",
    "$$[0,2] , n = 4 $$\n",
    "Let $ f:[0,2]\\rightarrow R $ be a function defined on a closed interval $ [a,b] $ of the real numbers, $R$ , and\n",
    "$$ P=\\left\\{[x_{0},x_{1}],[x_{1},x_{2}],[x_{2},x_{3}],[x_{3},x_{4}]\\right\\}$$,\n",
    "be a partition of I, where\n",
    "$$a=x_{0}<x_{1}<x_{2}<x_{3}<x_{4}=2$$.\n",
    "A Riemann sum $S$ of $f$ over $I$ with partition $P$ is defined as\n",
    "$$ S=\\sum _{i=1}^{4}f(x^{2})\\,\\Delta x_{i} $$\n",
    "where $\\Delta x_{i}=x_{i}-x_{i-1}  \\Delta x_{i}=x_{i}-x_{i-1}$ and an $ x_{i}^{*}\\in [x_{i-1},x_{i}]$, the choice of $x_{i}^{*}$ in the interval $ [x_{i-1},x_{i}]$ is arbitrary,."
   ]
  },
  {
   "cell_type": "code",
   "execution_count": 1,
   "metadata": {},
   "outputs": [
    {
     "data": {
      "text/plain": [
       "0.5"
      ]
     },
     "execution_count": 1,
     "metadata": {},
     "output_type": "execute_result"
    }
   ],
   "source": [
    "import numpy as np\n",
    "import matplotlib.pyplot as plt\n",
    "a=0\n",
    "b=2\n",
    "n=4\n",
    "deltax=(b-a)/n\n",
    "deltax"
   ]
  },
  {
   "cell_type": "code",
   "execution_count": 2,
   "metadata": {},
   "outputs": [
    {
     "data": {
      "text/plain": [
       "array([0. , 0.5, 1. , 1.5, 2. ])"
      ]
     },
     "execution_count": 2,
     "metadata": {},
     "output_type": "execute_result"
    }
   ],
   "source": [
    "x = np.arange(a, b+deltax, deltax)\n",
    "x"
   ]
  },
  {
   "cell_type": "code",
   "execution_count": 3,
   "metadata": {},
   "outputs": [
    {
     "data": {
      "image/png": "[encoded data removed]",
      "text/plain": [
       "<Figure size 432x288 with 1 Axes>"
      ]
     },
     "metadata": {},
     "output_type": "display_data"
    }
   ],
   "source": [
    "# red dashes, blue squares and green triangles\n",
    "\n",
    "x = np.linspace(0, 2, 50)\n",
    "y1 = x**2\n",
    "\n",
    "plt.figure()\n",
    "#set x limits\n",
    "plt.xlim((0, 2))\n",
    "plt.ylim((0, 4.5))\n",
    "\n",
    "# set new sticks\n",
    "new_sticks = np.linspace(0, 2, 5)\n",
    "plt.xticks(new_sticks)\n",
    "# set tick labels\n",
    "plt.yticks(np.arange(0, 5, step=1))\n",
    "\n",
    "# set line styles\n",
    "l1, = plt.plot(x, y1, color='red', linewidth=1.0, linestyle='--', label='f(x)= x^2')\n",
    "plt.legend(loc='upper left')\n",
    "\n",
    "x1=[0.5, 1.0, 1.5, 2.0]\n",
    "y1=np.power(x1,2)\n",
    "plt.bar(x1, y1,align='edge',width=1, color='white', edgecolor='black')\n",
    "plt.show()"
   ]
  },
  {
   "cell_type": "markdown",
   "metadata": {},
   "source": [
    "Right Riemann sum\n",
    "f is here approximated by the value at the right endpoint. This gives multiple rectangles with base Δx and height $f(a + i Δx)$. Doing this for $i = 1, ..., n$, and adding up the resulting areas produces\n",
    "\n",
    "$$ \\Delta x\\left[f(x)+f(a+\\Delta x)+f(a+2\\,\\Delta x)+f(a+3\\,\\Delta x)\\right].$$"
   ]
  },
  {
   "cell_type": "code",
   "execution_count": 4,
   "metadata": {},
   "outputs": [
    {
     "data": {
      "text/plain": [
       "array([0. , 0.5, 1. , 1.5])"
      ]
     },
     "execution_count": 4,
     "metadata": {},
     "output_type": "execute_result"
    }
   ],
   "source": [
    "x = np.arange(a, b, deltax)\n",
    "x"
   ]
  },
  {
   "cell_type": "code",
   "execution_count": 5,
   "metadata": {},
   "outputs": [
    {
     "data": {
      "text/plain": [
       "1.75"
      ]
     },
     "execution_count": 5,
     "metadata": {},
     "output_type": "execute_result"
    }
   ],
   "source": [
    "y1=x**2\n",
    "deltax*np.sum(y1)"
   ]
  },
  {
   "cell_type": "code",
   "execution_count": 6,
   "metadata": {},
   "outputs": [
    {
     "data": {
      "image/png": "[encoded data removed]",
      "text/plain": [
       "<Figure size 432x288 with 1 Axes>"
      ]
     },
     "metadata": {},
     "output_type": "display_data"
    }
   ],
   "source": [
    "plt.figure()\n",
    "#set x limits\n",
    "plt.xlim((0, 2))\n",
    "plt.ylim((0, 4.5))\n",
    "\n",
    "# set new sticks\n",
    "new_sticks = np.linspace(0, 2, 5)\n",
    "plt.xticks(new_sticks)\n",
    "# set tick labels\n",
    "plt.yticks(np.arange(0, 5, step=1))\n",
    "\n",
    "# set line styles\n",
    "l1, = plt.plot(x, y1, color='red', linewidth=1.0, linestyle='--', label='f(x)= x^2')\n",
    "plt.legend(loc='upper left')\n",
    "\n",
    "x1=[0.5, 1.0, 1.5, 2.0]\n",
    "y1=np.power(x1,2)\n",
    "plt.bar(x1, y1,align='edge',width=1, color='white', edgecolor='black')\n",
    "plt.show()"
   ]
  },
  {
   "cell_type": "markdown",
   "metadata": {},
   "source": [
    "Left Riemann sum\n",
    "For the left Riemann sum, approximating the function by its value at the left-end point gives multiple rectangles with base Δx and height f(a + iΔx). Doing this for i = 0, 1, ..., n − 1, and adding up the resulting areas gives\n",
    "\n",
    "$$ \\Delta x\\left[f(a)+f(a+\\Delta x)+f(a+2\\,\\Delta x)+f(a+3\\,\\Delta x)\\right].$$"
   ]
  },
  {
   "cell_type": "code",
   "execution_count": 7,
   "metadata": {},
   "outputs": [
    {
     "data": {
      "text/plain": [
       "array([0.5, 1. , 1.5, 2. ])"
      ]
     },
     "execution_count": 7,
     "metadata": {},
     "output_type": "execute_result"
    }
   ],
   "source": [
    "x = np.arange(a+deltax, b+deltax, deltax)\n",
    "x"
   ]
  },
  {
   "cell_type": "code",
   "execution_count": 8,
   "metadata": {},
   "outputs": [
    {
     "data": {
      "text/plain": [
       "3.75"
      ]
     },
     "execution_count": 8,
     "metadata": {},
     "output_type": "execute_result"
    }
   ],
   "source": [
    "y1=x**2\n",
    "deltax*np.sum(y1)"
   ]
  },
  {
   "cell_type": "code",
   "execution_count": 9,
   "metadata": {},
   "outputs": [
    {
     "data": {
      "image/png": "[encoded data removed]",
      "text/plain": [
       "<Figure size 432x288 with 1 Axes>"
      ]
     },
     "metadata": {},
     "output_type": "display_data"
    }
   ],
   "source": [
    "plt.figure()\n",
    "#set x limits\n",
    "plt.xlim((0, 2))\n",
    "plt.ylim((0, 4.5))\n",
    "\n",
    "# set new sticks\n",
    "new_sticks = np.linspace(0, 2, 5)\n",
    "plt.xticks(new_sticks)\n",
    "# set tick labels\n",
    "plt.yticks(np.arange(0, 5, step=1))\n",
    "\n",
    "# set line styles\n",
    "l1, = plt.plot(x, y1, color='red', linewidth=1.0, linestyle='--', label='f(x)= x^2')\n",
    "plt.legend(loc='upper left')\n",
    "\n",
    "x1=[0.5, 1.0, 1.5, 2.0]\n",
    "y1=np.power(x1,2)\n",
    "plt.bar(x1, y1,align='edge',width=1, color='white', edgecolor='black')\n",
    "plt.show()"
   ]
  },
  {
   "cell_type": "markdown",
   "metadata": {},
   "source": [
    "Midpoint rule\n",
    "Approximating f at the midpoint of intervals gives $ f(a +\\Delta x/2) $  for the first interval, for the next one $ f(a + 3\\Delta x/2)$, and so on until $f(b − \\Delta x/2)$. \n",
    "Summing up the areas gives\n",
    "$$ \\Delta x\\left[ f(a+ {\\tfrac {\\Delta x}{2}} )+f(a+{\\tfrac {3\\,\\Delta x}{2}})+f(a+{\\tfrac {5\\,\\Delta x}{2}})+f(a+{\\tfrac {7\\,\\Delta x}{2}}) \\right] $$"
   ]
  },
  {
   "cell_type": "code",
   "execution_count": 10,
   "metadata": {},
   "outputs": [
    {
     "data": {
      "text/plain": [
       "array([0.25, 0.75, 1.25, 1.75])"
      ]
     },
     "execution_count": 10,
     "metadata": {},
     "output_type": "execute_result"
    }
   ],
   "source": [
    "x = np.arange(a+deltax/2, b, deltax)\n",
    "x"
   ]
  },
  {
   "cell_type": "code",
   "execution_count": 11,
   "metadata": {},
   "outputs": [
    {
     "data": {
      "text/plain": [
       "2.625"
      ]
     },
     "execution_count": 11,
     "metadata": {},
     "output_type": "execute_result"
    }
   ],
   "source": [
    "y1=x**2\n",
    "deltax*np.sum(y1)"
   ]
  },
  {
   "cell_type": "code",
   "execution_count": 12,
   "metadata": {},
   "outputs": [
    {
     "data": {
      "image/png": "[encoded data removed]",
      "text/plain": [
       "<Figure size 432x288 with 1 Axes>"
      ]
     },
     "metadata": {},
     "output_type": "display_data"
    }
   ],
   "source": [
    "plt.figure()\n",
    "#set x limits\n",
    "plt.xlim((0, 2))\n",
    "plt.ylim((0, 4.5))\n",
    "\n",
    "# set new sticks\n",
    "new_sticks = np.linspace(0, 2, 5)\n",
    "plt.xticks(new_sticks)\n",
    "# set tick labels\n",
    "plt.yticks(np.arange(0, 5, step=1))\n",
    "\n",
    "# set line styles\n",
    "l1, = plt.plot(x, y1, color='red', linewidth=1.0, linestyle='--', label='f(x)= x^2')\n",
    "plt.legend(loc='upper left')\n",
    "\n",
    "x1=[0.5, 1.0, 1.5, 2.0]\n",
    "y1=np.power(x1,2)\n",
    "plt.bar(x1, y1,align='edge',width=1, color='white', edgecolor='black')\n",
    "plt.show()"
   ]
  },
  {
   "cell_type": "code",
   "execution_count": null,
   "metadata": {},
   "outputs": [],
   "source": []
  }
 ],
 "metadata": {
  "kernelspec": {
   "display_name": "Python 3",
   "language": "python",
   "name": "python3"
  },
  "language_info": {
   "codemirror_mode": {
    "name": "ipython",
    "version": 3
   },
   "file_extension": ".py",
   "mimetype": "text/x-python",
   "name": "python",
   "nbconvert_exporter": "python",
   "pygments_lexer": "ipython3",
   "version": "3.5.5"
  }
 },
 "nbformat": 4,
 "nbformat_minor": 2
}
