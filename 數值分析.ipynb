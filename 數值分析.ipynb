{
 "cells": [
  {
   "cell_type": "markdown",
   "metadata": {},
   "source": [
    "<h1>Example</h1><br>\n",
    "<h5>We want to construct a box whose base length is 3 times the base width.</h5><br>\n",
    "<h5>The material used to build the top and bottom cost 10/ft<sup>2</sup> and the material used to build the sides cost 6/ft<sup>2</sup>.</h5><br>\n",
    "<h5>If the box must have a volume of 50ft<sup>3</sup> determine the dimensions that will minimize the cost to build the box.</h5><br>\n",
    "![替代文字](http://tutorial.math.lamar.edu/Classes/CalcI/Optimization_Files/image003.png)"
   ]
  },
  {
   "cell_type": "markdown",
   "metadata": {},
   "source": [
    "<h5>We want to minimize the cost of the materials subject to the constraint that the volume must be 50ft<sup>3</sup>.<br> Note as well that the cost for each side is just the area of that side times the appropriate cost.</h5><br>\n",
    "<h4>The two functions we’ll be working with here this time are:</h4><br>\n",
    "$$Minimize : C = 10(2lw)+6(2wh+2lh) = 60w^2 + 48wh$$\n",
    "$$Constraint : 50 = lwh = 3w^2h$$\n"
   ]
  },
  {
   "cell_type": "markdown",
   "metadata": {},
   "source": [
    "<h5>As with the first example, we will solve the constraint for one of the variables and plug this into the cost.</h5><br>\n",
    "$$h = \\frac{50}{3w^2}$$\n",
    "<h5>Plugging this into the cost gives,</h5><br>\n",
    "$$C(w) = 60w^2+48w(\\frac{50}{3w^2})=60w^2+\\frac{800}{w}$$<br>\n",
    "$$C'(w) = 120w-800w^{-2}=\\frac{120w^3-800}{w^2}$$<br>\n",
    "$$C''(w) = 120+1600w^{-3}$$<br>\n",
    "$$120w^3-800=0 \\Rightarrow w = \\sqrt[3]{\\frac{800}{120}} = \\sqrt[3]{\\frac{20}{3}} = 1.8821$$\n",
    "<h5>All we need to do now is to find the remaining dimensions </h5><br>\n",
    "$$w = 1.8821$$<br>\n",
    "$$l = 3w = 3(1.8821) = 5.6463$$<br>\n",
    "$$h = \\frac{50}{3w^2} = \\frac{50}{3(1.8821)^2} = 4.7050$$<br>\n",
    "$$C(1.8821) = $637.60$$"
   ]
  },
  {
   "cell_type": "code",
   "execution_count": 2,
   "metadata": {},
   "outputs": [
    {
     "name": "stderr",
     "output_type": "stream",
     "text": [
      "C:\\Users\\M217\\Anaconda3\\envs\\tensorflow-gpu\\lib\\site-packages\\h5py\\__init__.py:36: FutureWarning: Conversion of the second argument of issubdtype from `float` to `np.floating` is deprecated. In future, it will be treated as `np.float64 == np.dtype(float).type`.\n",
      "  from ._conv import register_converters as _register_converters\n"
     ]
    }
   ],
   "source": [
    "import tensorflow as tf\n",
    "import numpy as np\n",
    "import matplotlib.pyplot as plt\n",
    "%matplotlib inline\n",
    "import pylab\n",
    "import numpy\n",
    "from sympy import*\n",
    "from scipy.optimize import fmin\n"
   ]
  },
  {
   "cell_type": "code",
   "execution_count": 3,
   "metadata": {},
   "outputs": [],
   "source": [
    "def my_function(w):\n",
    "    return 60*w**2+800/w"
   ]
  },
  {
   "cell_type": "code",
   "execution_count": 5,
   "metadata": {},
   "outputs": [],
   "source": [
    "def my_function_h(w):\n",
    "     return 50/(3*(w**2))"
   ]
  },
  {
   "cell_type": "code",
   "execution_count": 7,
   "metadata": {},
   "outputs": [
    {
     "data": {
      "text/plain": [
       "[<matplotlib.lines.Line2D at 0x21288b59588>]"
      ]
     },
     "execution_count": 7,
     "metadata": {},
     "output_type": "execute_result"
    },
    {
     "data": {
      "image/png": "[encoded data removed]",
      "text/plain": [
       "<Figure size 432x288 with 1 Axes>"
      ]
     },
     "metadata": {},
     "output_type": "display_data"
    }
   ],
   "source": [
    "x = np.arange(0.1,10,0.0001)\n",
    "y = my_function(x)\n",
    "plt.plot(x,y)"
   ]
  },
  {
   "cell_type": "markdown",
   "metadata": {},
   "source": [
    "<h5>Useing scipy.optimize.fmin find Minimum </h5>\n",
    "https://docs.scipy.org/doc/scipy/reference/generated/scipy.optimize.fmin.html\n"
   ]
  },
  {
   "cell_type": "code",
   "execution_count": 8,
   "metadata": {},
   "outputs": [
    {
     "name": "stdout",
     "output_type": "stream",
     "text": [
      "Optimization terminated successfully.\n",
      "         Current function value: 637.595142\n",
      "         Iterations: 22\n",
      "         Function evaluations: 44\n",
      "Optimization terminated successfully.\n",
      "         Current function value: 637.595142\n",
      "         Iterations: 16\n",
      "         Function evaluations: 32\n"
     ]
    },
    {
     "name": "stderr",
     "output_type": "stream",
     "text": [
      "C:\\Users\\M217\\Anaconda3\\envs\\tensorflow-gpu\\lib\\site-packages\\ipykernel_launcher.py:2: RuntimeWarning: divide by zero encountered in true_divide\n",
      "  \n"
     ]
    },
    {
     "data": {
      "image/png": "[encoded data removed]",
      "text/plain": [
       "<Figure size 432x288 with 1 Axes>"
      ]
     },
     "metadata": {},
     "output_type": "display_data"
    }
   ],
   "source": [
    "#objective function\n",
    "rsinc = lambda x: 60*x**2+800/x\n",
    "# start from x = 0.1 從0.1開始找極值\n",
    "x0 = 0.1\n",
    "xmin0 = fmin(rsinc,x0)\n",
    "\n",
    "# start from x = 3 從3開始找極值\n",
    "x1 = 3\n",
    "xmin1 = fmin(rsinc,x1)\n",
    "\n",
    "#劃出函數,並劃出極值與起始點\n",
    "x = numpy.linspace(0,10,10000)\n",
    "y = rsinc(x)\n",
    "pylab.plot(x,y)\n",
    "\n",
    "pylab.plot(x0,rsinc(x0),'bd',xmin0,rsinc(xmin0),'bo')\n",
    "\n",
    "pylab.plot(x1,rsinc(x1),'rd',xmin1,rsinc(xmin1),'ro')\n",
    "pylab.axis([0,10,0,8000])\n",
    "pylab.show()\n"
   ]
  },
  {
   "cell_type": "code",
   "execution_count": 10,
   "metadata": {},
   "outputs": [
    {
     "name": "stdout",
     "output_type": "stream",
     "text": [
      "w =  1.8821044921874972 \n",
      "l =  5.646313476562492 \n",
      "h =  4.705017976470001 \n",
      "C =  637.595141698923\n"
     ]
    }
   ],
   "source": [
    "w = xmin1[0]\n",
    "l = 3*w\n",
    "h = my_function_h(w)\n",
    "C = 60*w**2+48*w*h\n",
    "print('w = ',w,'\\nl = ',l,'\\nh = ',h,'\\nC = ',C)\n"
   ]
  },
  {
   "cell_type": "markdown",
   "metadata": {},
   "source": [
    "<h5>Golden-section search<br><br>\n",
    "The golden-section search is a technique for finding the extremum (minimum or maximum) of a strictly unimodal function by successively narrowing the range of values inside which the extremum is known to exist.\n",
    "\n",
    "$$ φ =  (1+√5)/2  = 1.618033.988 $$\n"
   ]
  },
  {
   "cell_type": "code",
   "execution_count": 13,
   "metadata": {},
   "outputs": [],
   "source": [
    "import math\n",
    "#黃金比例\n",
    "gr = (math.sqrt(5) + 1) / 2\n",
    "\n",
    "#Function黃金分割,f = function , a = 起始範圍 , b = 結束範圍 , tol = 精度 (1e-5表示誤差在10的-5次方內停止)\n",
    "def Golden_section(f, a, b, tol=1e-5):\n",
    "    count = 0\n",
    "    c = b - (b - a) / gr\n",
    "    d = a + (b - a) / gr \n",
    "    while abs(c - d) > tol:\n",
    "        if f(c) < f(d):\n",
    "            b = d\n",
    "        else:\n",
    "            a = c\n",
    "        c = b - (b - a) / gr\n",
    "        d = a + (b - a) / gr\n",
    "    return (b + a) / 2"
   ]
  },
  {
   "cell_type": "code",
   "execution_count": 14,
   "metadata": {},
   "outputs": [],
   "source": [
    "#定義函式\n",
    "f = lambda x: 60*x**2+800/x\n",
    "w_GS = Golden_section(f,0,100)"
   ]
  },
  {
   "cell_type": "code",
   "execution_count": 25,
   "metadata": {},
   "outputs": [
    {
     "name": "stdout",
     "output_type": "stream",
     "text": [
      "w_GS =  1.882082283713237 \n",
      "l_GS =  5.646313476562492 \n",
      "h_GS =  4.705017976470001 \n",
      "C_GS =  637.5851103072256\n"
     ]
    }
   ],
   "source": [
    "#印出值\n",
    "l_GS = 3*w\n",
    "h_GS = my_function_h(w)\n",
    "C_GS = 60*w_GS**2+48*w_GS*h_GS\n",
    "print('w_GS = ',w_GS,'\\nl_GS = ',l_GS,'\\nh_GS = ',h_GS,'\\nC_GS = ',C_GS)\n"
   ]
  },
  {
   "cell_type": "markdown",
   "metadata": {},
   "source": [
    "<h3>Newton's method<br><br>\n",
    "is a method for finding successively better approximations to the roots (or zeroes) of a real-valued function. It is one example of a root-finding algorithm<br><br><br>\n",
    "Solving the most value problem:<br><br>\n",
    "The Newton method is also used to find the extreme value of a function. Since the derivative value at the point where the function takes the extreme value is zero, the zero point of the derivative function can be obtained by the Newton method. The iterative formula is:<br>\n",
    "$$x_{n+1} = x_{n} - {\\frac{f'(x_{n})}{f''(x_{n})}}$$"
   ]
  },
  {
   "cell_type": "code",
   "execution_count": 17,
   "metadata": {},
   "outputs": [],
   "source": [
    "#求解方程 60w^2+800/w\n",
    "#微分 60w^2+800/w 求一皆導數\n",
    "def df(x):  \n",
    "    return 120*x-800/x**2\n",
    "  \n",
    "#二皆微分 60w^2+800/w 求二皆導數 \n",
    "def df2(x):  \n",
    "    return 120 + 1600/x**3"
   ]
  },
  {
   "cell_type": "code",
   "execution_count": 18,
   "metadata": {},
   "outputs": [],
   "source": [
    "# 算出 Xn 值\n",
    "def Xn(x):  \n",
    "    return x - df(x) / df2(x)  \n",
    "\n",
    "#Xn+11與Xn差值 \n",
    "def E(xn, x):  \n",
    "    return abs(xn - x)  "
   ]
  },
  {
   "cell_type": "code",
   "execution_count": 19,
   "metadata": {},
   "outputs": [],
   "source": [
    "def Newton(x,e):\n",
    "    i = 0\n",
    "    xn = Xn(x)\n",
    "    count = 0\n",
    "    while E(xn, x) > e:  \n",
    "        i = i + 1\n",
    "        count = count + 1\n",
    "        x = xn  \n",
    "        xn = Xn(x)    \n",
    "    return x "
   ]
  },
  {
   "cell_type": "code",
   "execution_count": 22,
   "metadata": {},
   "outputs": [],
   "source": [
    "w_NT = Newton(10,0.000000001)"
   ]
  },
  {
   "cell_type": "code",
   "execution_count": 24,
   "metadata": {},
   "outputs": [
    {
     "name": "stdout",
     "output_type": "stream",
     "text": [
      "w_NT =  1.8820720577620569 \n",
      "l_NT =  5.64621617328617 \n",
      "h_NT =  4.705180144405143 \n",
      "C_NT =  637.5951415095666\n"
     ]
    }
   ],
   "source": [
    "l_NT = 3*w_NT\n",
    "h_NT = my_function_h(w_NT)\n",
    "C_NT = 60*w_NT**2+48*w_NT*h_NT\n",
    "print('w_NT = ',w_NT,'\\nl_NT = ',l_NT,'\\nh_NT = ',h_NT,'\\nC_NT = ',C_NT)"
   ]
  },
  {
   "cell_type": "code",
   "execution_count": null,
   "metadata": {},
   "outputs": [],
   "source": []
  }
 ],
 "metadata": {
  "kernelspec": {
   "display_name": "Python 3",
   "language": "python",
   "name": "python3"
  },
  "language_info": {
   "codemirror_mode": {
    "name": "ipython",
    "version": 3
   },
   "file_extension": ".py",
   "mimetype": "text/x-python",
   "name": "python",
   "nbconvert_exporter": "python",
   "pygments_lexer": "ipython3",
   "version": "3.5.5"
  }
 },
 "nbformat": 4,
 "nbformat_minor": 2
}
